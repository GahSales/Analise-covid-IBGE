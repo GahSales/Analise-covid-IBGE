{
 "cells": [
  {
   "cell_type": "code",
   "execution_count": 18,
   "metadata": {},
   "outputs": [],
   "source": [
    "# carregando dados \n",
    "import pandas as pd\n",
    "import numpy as np\n",
    "\n",
    "df_maio = pd.read_csv('dados/PNAD_COVID_052020.csv')\n",
    "df_junho = pd.read_csv('dados/PNAD_COVID_062020.csv')\n",
    "df_julho = pd.read_csv('dados/PNAD_COVID_072020.csv')"
   ]
  },
  {
   "cell_type": "markdown",
   "metadata": {},
   "source": [
    "**Questões:**\n",
    "\n",
    "1.\tQual é o percentual de pessoas que, ao apresentar ao menos 3 sintomas, não procurou nenhum serviço de saúde?\n",
    "\n",
    "2.\tEntre as pessoas que procuraram atendimento de saúde, qual foi o tipo de serviço mais utilizado (público vs. privado)?\n",
    "\n",
    "3.\tDentre as pessoas que não buscaram atendimento de saúde, qual porcentagem fez uso de auto medicação?\n",
    "\n",
    "4.\tQuais providências foram mais adotadas para tratar sintomas (ex.: ficar em casa vs. automedicação) em pacientes com 3 ou mais sintomas?\n",
    "\n",
    "5.\tQual a porcentagem de pessoas hospitalizadas que necessitou de ventilação mecânica?\n",
    "\n",
    "6.  Qual a proporção de pessoas com ao menos 3 sintomas e com plano de saúde que optaram por utilizar o SUS?\n",
    "\n",
    "7.  Entre as pessoas que buscaram atendimento, qual foi a taxa de internação hospitalar?\n",
    "\n",
    "\n"
   ]
  },
  {
   "cell_type": "markdown",
   "metadata": {},
   "source": [
    "Questão 1: Qual é o percentual de pessoas que, ao apresentar ao menos 3 sintomas, não procurou nenhum serviço de saúde?\n",
    "\n",
    "| Mês   | Procurou       | Não procurou      |\n",
    "|-------|-----------|-----------|\n",
    "| Maio  | 27.676831 | 72.323169 |\n",
    "| Junho | 35.899311 | 64.100689 |\n",
    "| Julho | 40.235186 | 59.764814 |\n",
    "\n"
   ]
  },
  {
   "cell_type": "code",
   "execution_count": 10,
   "metadata": {},
   "outputs": [
    {
     "name": "stdout",
     "output_type": "stream",
     "text": [
      "B002         1.0        2.0\n",
      "V1013                      \n",
      "Maio   27.676831  72.323169\n",
      "Junho  35.899311  64.100689\n",
      "Julho  40.235186  59.764814\n"
     ]
    }
   ],
   "source": [
    "# Questão 1\n",
    "\n",
    "# Selecionando colunas relevantes para a resolução\n",
    "df_q1_maio = df_maio[[\"V1013\",\"B0011\",\"B0012\",\"B0013\",\"B0014\",\"B0015\",\"B0016\",\"B0017\",\"B0018\",\"B0019\", \"B00110\", \"B00111\", \"B00112\", \"B002\"]]\n",
    "df_q1_junho = df_junho[[\"V1013\",\"B0011\",\"B0012\",\"B0013\",\"B0014\",\"B0015\",\"B0016\",\"B0017\",\"B0018\",\"B0019\", \"B00110\", \"B00111\", \"B00112\", \"B002\"]]\n",
    "df_q1_julho = df_julho[[\"V1013\",\"B0011\",\"B0012\",\"B0013\",\"B0014\",\"B0015\",\"B0016\",\"B0017\",\"B0018\",\"B0019\", \"B00110\", \"B00111\", \"B00112\", \"B002\"]]\n",
    "\n",
    "# Unir os três DataFrames em um só\n",
    "df_q1_total = pd.concat([df_q1_maio, df_q1_junho, df_q1_julho], axis=0)\n",
    "\n",
    "# Resetar o índice para organizar as linhas\n",
    "df_q1_total.reset_index(drop=True, inplace=True)\n",
    "\n",
    "# Remover linhas onde B002 é igual a 9 ou NaN\n",
    "df_q1_total = df_q1_total[(df_q1_total[\"B002\"] != 9) & (df_q1_total[\"B002\"].notna())]\n",
    "\n",
    "# Filtrar linhas onde o valor 1 ocorre ao menos 3 vezes nas colunas de índice 1 a 12\n",
    "df_q1_total = df_q1_total[df_q1_total.iloc[:, 1:13].eq(1).sum(axis=1) >= 3]\n",
    "\n",
    "# Agrupar por V1013 (mês) e calcular a proporção dos valores 1 (procurou serviço de saúde) e 2 (não procurou serviço de saúde) em B002\n",
    "percentual_por_mes = df_q1_total.groupby(\"V1013\")[\"B002\"].value_counts(normalize=True).unstack().fillna(0) * 100\n",
    "\n",
    "# Exibir apenas as porcentagens de interesse (1 e 2)\n",
    "percentual_interesse = percentual_por_mes[[1, 2]]\n",
    "\n",
    "# Renomear o índice para representar os meses\n",
    "percentual_interesse.index = percentual_interesse.index.map({5: \"Maio\", 6: \"Junho\", 7: \"Julho\"})\n",
    "\n",
    "# Salvando df_q1_total em xlsx para futura conferencia\n",
    "df_q1_total.to_excel(\"dados/clean_data/q1.xlsx\")\n",
    "\n",
    "# Exibir as porcentagens de 1 e 2 para cada mês\n",
    "print(percentual_interesse)\n"
   ]
  },
  {
   "cell_type": "markdown",
   "metadata": {},
   "source": [
    "Questão 2: Entre as pessoas que procuraram atendimento de saúde, qual foi o tipo de serviço mais utilizado (público vs. privado)?\n",
    "\n",
    "| Mês   | Apenas público | Apenas privado | Ambos (público e privado) | Não especificado |\n",
    "|-------|---------------|----------------------------------|---------------|--------------------------------|\n",
    "| Maio  | 75.066313    | 19.330239                      | 2.718833     | 2.884615                  |\n",
    "| Junho | 78.215223    | 17.340332                      | 2.502187     | 1.942257                     |\n",
    "| Julho | 76.653359     | 18.347509                     | 2.638431     | 2.360701                       |\n",
    "\n",
    "\n",
    "\n"
   ]
  },
  {
   "cell_type": "code",
   "execution_count": 35,
   "metadata": {},
   "outputs": [
    {
     "name": "stdout",
     "output_type": "stream",
     "text": [
      "       Porcentagem apenas público  Porcentagem apenas privado  \\\n",
      "Maio                    75.066313                   19.330239   \n",
      "Junho                   78.215223                   17.340332   \n",
      "Julho                   76.653359                   18.347509   \n",
      "\n",
      "       Porcentagem ambos (público e privado)  Porcentagem não especificado  \n",
      "Maio                                2.718833                      2.884615  \n",
      "Junho                               2.502187                      1.942257  \n",
      "Julho                               2.638431                      2.360701  \n"
     ]
    }
   ],
   "source": [
    "# Questão 2\n",
    "\n",
    "# Selecionando colunas relevantes para a resolução\n",
    "df_q2_maio = df_maio[[\"V1013\",\"B002\",\"B0041\",\"B0042\",\"B0043\",\"B0044\",\"B0045\",\"B0046\"]]\n",
    "df_q2_junho = df_junho[[\"V1013\",\"B002\",\"B0041\",\"B0042\",\"B0043\",\"B0044\",\"B0045\",\"B0046\"]]\n",
    "df_q2_julho = df_julho[[\"V1013\",\"B002\",\"B0041\",\"B0042\",\"B0043\",\"B0044\",\"B0045\",\"B0046\"]]\n",
    "\n",
    "# Unir os três DataFrames em um só\n",
    "df_q2_total = pd.concat([df_q2_maio, df_q2_junho, df_q2_julho], axis=0)\n",
    "\n",
    "# Selecionar apenas linhas onde a pessoa procurou estabelecimento de saúde\n",
    "df_q2_total = df_q2_total[(df_q2_total[\"B002\"] != 2) & (df_q2_total[\"B002\"] != 9) & (df_q2_total[\"B002\"].notna())]\n",
    "\n",
    "# Criar um dicionário para armazenar os resultados por mês\n",
    "resultados = {}\n",
    "\n",
    "# Agrupar por V1013 (mês) e iterar pelos grupos de meses (5 - Maio, 6 - Junho, 7 - Julho)\n",
    "for mes, grupo in df_q2_total.groupby(\"V1013\"):\n",
    "    # Verificar o uso de serviços de saúde pública e privada\n",
    "    usou_publico = grupo[[\"B0041\", \"B0042\", \"B0043\"]].eq(1).any(axis=1)\n",
    "    usou_privado = grupo[[\"B0044\", \"B0045\", \"B0046\"]].eq(1).any(axis=1)\n",
    "\n",
    "    # Identificar os diferentes grupos de uso\n",
    "    apenas_publico = usou_publico & ~usou_privado\n",
    "    apenas_privado = ~usou_publico & usou_privado\n",
    "    ambos = usou_publico & usou_privado\n",
    "    nao_especificado = ~usou_publico & ~usou_privado  # Casos onde a pessoa não usou nem serviços públicos nem privados\n",
    "\n",
    "    # Calcular as proporções para cada categoria\n",
    "    percentual_apenas_publico = apenas_publico.mean() * 100\n",
    "    percentual_apenas_privado = apenas_privado.mean() * 100\n",
    "    percentual_ambos = ambos.mean() * 100\n",
    "    percentual_nao_especificado = nao_especificado.mean() * 100\n",
    "\n",
    "    # Armazenar os resultados no dicionário com o nome do mês correspondente\n",
    "    resultados[mes] = {\n",
    "        \"Porcentagem apenas público\": percentual_apenas_publico,\n",
    "        \"Porcentagem apenas privado\": percentual_apenas_privado,\n",
    "        \"Porcentagem ambos (público e privado)\": percentual_ambos,\n",
    "        \"Porcentagem não especificado\": percentual_nao_especificado\n",
    "    }\n",
    "\n",
    "# Converter o dicionário para um DataFrame para exibir o resultado\n",
    "resultados_df = pd.DataFrame(resultados).T\n",
    "\n",
    "# Renomear o índice para representar os meses\n",
    "resultados_df.index = resultados_df.index.map({5: \"Maio\", 6: \"Junho\", 7: \"Julho\"})\n",
    "\n",
    "# Salvando df_q2_total em xlsx para futura conferência\n",
    "df_q2_total.to_excel(\"dados/clean_data/q2.xlsx\")\n",
    "\n",
    "# Exibir o resultado\n",
    "print(resultados_df)\n"
   ]
  },
  {
   "cell_type": "markdown",
   "metadata": {},
   "source": [
    "Questão 3: Dentre as pessoas que não buscaram atendimento de saúde, qual porcentagem fez uso de auto medicação?\n",
    "\n",
    "| Mês   | Porcentagem de auto medicação | \n",
    "|-------|-----------|\n",
    "| Maio  | 57.202902|\n",
    "| Junho | 59.418362 |\n",
    "| Julho | 59.579879 |\n",
    "\n",
    "\n",
    "\n"
   ]
  },
  {
   "cell_type": "code",
   "execution_count": 12,
   "metadata": {},
   "outputs": [
    {
     "name": "stdout",
     "output_type": "stream",
     "text": [
      "           B0033\n",
      "V1013           \n",
      "Maio   57.202902\n",
      "Junho  59.418362\n",
      "Julho  59.579879\n"
     ]
    }
   ],
   "source": [
    "# Questão 3\n",
    "\n",
    "# Selecionando colunas relevantes para a resolução\n",
    "df_q3_maio = df_maio[[\"V1013\",\"B002\", \"B0033\"]]\n",
    "df_q3_junho = df_junho[[\"V1013\",\"B002\", \"B0033\"]]\n",
    "df_q3_julho = df_julho[[\"V1013\",\"B002\", \"B0033\"]]\n",
    "\n",
    "# Unir os três DataFrames em um só\n",
    "df_q3_total = pd.concat([df_q3_maio, df_q3_junho, df_q3_julho], axis=0)\n",
    "\n",
    "# Seleciondo apenas linhas onde a pessoa não procurou estabelecimento de saude\n",
    "df_q3_total = df_q3_total[(df_q3_total[\"B002\"] != 1) & (df_q3_total[\"B002\"] != 9) & (df_q3_total[\"B002\"].notna())]\n",
    "\n",
    "# Agrupar por V1013 (mês) e calcular a porcentagem de ocorrências de 1 em B0033\n",
    "percentuais = df_q3_total.groupby(\"V1013\")[[\"B0033\"]].apply(lambda x: (x == 1).mean() * 100)\n",
    "\n",
    "# Renomear o índice para representar os meses\n",
    "percentuais.index = percentuais.index.map({5: \"Maio\", 6: \"Junho\", 7: \"Julho\"})\n",
    "\n",
    "# Salvando df_q1_total em xlsx para futura conferencia\n",
    "df_q3_total.to_excel(\"dados/clean_data/q3.xlsx\")\n",
    "\n",
    "# Exibir o resultado\n",
    "print(percentuais)"
   ]
  },
  {
   "cell_type": "markdown",
   "metadata": {},
   "source": [
    "Questão 4: Quais providências foram mais adotadas para tratar sintomas (ex.: ficar em casa vs. automedicação) em pacientes com 3 ou mais sintomas?\n",
    "\n",
    "| Mês   | Ficar em casa | Ligar para profissional de saude | Automedicação | Medicação c/ orientação médica | Visita profissional do SUS | Visita profissional rede particular | Outros    |\n",
    "|-------|---------------|----------------------------------|---------------|--------------------------------|----------------------------|-------------------------------------|-----------|\n",
    "| Maio  | 63.917044     | 8.194293                       | 48.627787     | 13.262124                    | 3.181039                 | 1.130516                           | 2.993919 |\n",
    "| Junho | 56.203008     | 7.205514                       | 43.504595     | 11.549708                      | 3.080618                   | 0.845865                           | 2.255639 |\n",
    "| Julho | 50.817972     | 4.873272                       | 41.244240      | 10.288018                      | 3.260369                  | 0.599078                            | 1.993088 |"
   ]
  },
  {
   "cell_type": "code",
   "execution_count": 25,
   "metadata": {},
   "outputs": [
    {
     "name": "stdout",
     "output_type": "stream",
     "text": [
      "           B0031     B0032      B0033      B0034     B0035     B0036     B0037\n",
      "V1013                                                                         \n",
      "Maio   63.917044  8.194293  48.627787  13.262124  3.181039  1.130516  2.993919\n",
      "Junho  56.203008  7.205514  43.504595  11.549708  3.080618  0.845865  2.255639\n",
      "Julho  50.817972  4.873272  41.244240  10.288018  3.260369  0.599078  1.993088\n"
     ]
    }
   ],
   "source": [
    "# Questão 4\n",
    "\n",
    "# Selecionando colunas relevantes para a resolução\n",
    "df_q4_maio = df_maio[[\"V1013\",\"B0011\",\"B0012\",\"B0013\",\"B0014\",\"B0015\",\"B0016\",\"B0017\",\"B0018\",\"B0019\", \"B00110\", \"B00111\", \"B00112\", \"B0031\", \"B0032\", \"B0033\", \"B0034\", \"B0035\", \"B0036\", \"B0037\"]]\n",
    "df_q4_junho = df_junho[[\"V1013\",\"B0011\",\"B0012\",\"B0013\",\"B0014\",\"B0015\",\"B0016\",\"B0017\",\"B0018\",\"B0019\", \"B00110\", \"B00111\", \"B00112\", \"B0031\", \"B0032\", \"B0033\", \"B0034\", \"B0035\", \"B0036\", \"B0037\"]]\n",
    "df_q4_julho = df_julho[[\"V1013\",\"B0011\",\"B0012\",\"B0013\",\"B0014\",\"B0015\",\"B0016\",\"B0017\",\"B0018\",\"B0019\", \"B00110\", \"B00111\", \"B00112\", \"B0031\", \"B0032\", \"B0033\", \"B0034\", \"B0035\", \"B0036\", \"B0037\"]]\n",
    "\n",
    "# Unir os três DataFrames em um só\n",
    "df_q4_total = pd.concat([df_q4_maio, df_q4_junho, df_q4_julho], axis=0)\n",
    "\n",
    "# Remover linhas com valores NA nas colunas de providencias tomadas (\"B0031\" até \"B0037\")\n",
    "df_q4_total_limpo = df_q4_total.dropna(subset=[\"B0031\", \"B0032\", \"B0033\", \"B0034\", \"B0035\", \"B0036\", \"B0037\"])\n",
    "\n",
    "# Filtrar linhas onde o valor 1 ocorre ao menos 3 vezes nas colunas de índice 1 a 13 (apenas pacientes com 3 ou mais sintomas)\n",
    "df_q4_total = df_q4_total[df_q4_total.iloc[:, 1:13].eq(1).sum(axis=1) >= 3]\n",
    "\n",
    "# Agrupar por V1013 (mês) e calcular a porcentagem de ocorrências de 1 em B0031 até B0036\n",
    "percentuais_q4 = df_q4_total.groupby(\"V1013\")[[\"B0031\", \"B0032\", \"B0033\", \"B0034\", \"B0035\", \"B0036\", \"B0037\"]].apply(lambda x: (x == 1).mean() * 100)\n",
    "\n",
    "# Renomear o índice para representar os meses\n",
    "percentuais_q4.index = percentuais_q4.index.map({5: \"Maio\", 6: \"Junho\", 7: \"Julho\"})\n",
    "\n",
    "# Salvando df_q1_total em xlsx para futura conferencia\n",
    "df_q4_total.to_excel(\"dados/clean_data/q4.xlsx\")\n",
    "\n",
    "# Exibir o resultado\n",
    "print(percentuais_q4)\n",
    "\n"
   ]
  },
  {
   "cell_type": "markdown",
   "metadata": {},
   "source": [
    "Questão 5: Qual a porcentagem de pessoas hospitalizadas que necessitou de ventilação mecânica?\n",
    "\n",
    "| Mês   | Porcentagem de ventilação mecânica | \n",
    "|-------|-----------|\n",
    "| Maio  | 25.000000 |\n",
    "| Junho | 27.312775 |\n",
    "| Julho | 25.660377 |"
   ]
  },
  {
   "cell_type": "code",
   "execution_count": 49,
   "metadata": {},
   "outputs": [
    {
     "name": "stdout",
     "output_type": "stream",
     "text": [
      "            B006\n",
      "V1013           \n",
      "Maio   25.000000\n",
      "Junho  27.312775\n",
      "Julho  25.660377\n"
     ]
    }
   ],
   "source": [
    "# Questão 5\n",
    "\n",
    "# Selecionando colunas relevantes para a resolução\n",
    "df_q5_maio = df_maio[[\"V1013\",\"B002\", \"B005\", \"B006\"]]\n",
    "df_q5_junho = df_junho[[\"V1013\",\"B002\", \"B005\", \"B006\"]]\n",
    "df_q5_julho = df_julho[[\"V1013\",\"B002\", \"B005\", \"B006\"]]\n",
    "\n",
    "# Unir os três DataFrames em um só\n",
    "df_q5_total = pd.concat([df_q5_maio, df_q5_junho, df_q5_julho], axis=0)\n",
    "\n",
    "# Selecionando apenas linhas onde a pessoa procurou estabelecimento de saúde\n",
    "df_q5_total = df_q5_total[(df_q5_total[\"B002\"] != 2) & (df_q5_total[\"B002\"] != 9) & (df_q5_total[\"B002\"].notna())]\n",
    "\n",
    "# Selecionando apenas linhas onde a pessoa foi hospitalizada\n",
    "df_q5_total = df_q5_total[(df_q5_total[\"B005\"] != 2) & (df_q5_total[\"B005\"] != 3) & (df_q5_total[\"B005\"] != 9) & (df_q5_total[\"B005\"].notna())]\n",
    "\n",
    "# Agrupar por V1013 (mês) e calcular a porcentagem de ocorrências de 1 em B006\n",
    "percentuais = df_q5_total.groupby(\"V1013\")[[\"B006\"]].apply(lambda x: (x == 1).mean() * 100)\n",
    "\n",
    "# Renomear o índice para representar os meses\n",
    "percentuais.index = percentuais.index.map({5: \"Maio\", 6: \"Junho\", 7: \"Julho\"})\n",
    "\n",
    "# Salvando df_q1_total em xlsx para futura conferencia\n",
    "df_q5_total.to_excel(\"dados/clean_data/q5.xlsx\")\n",
    "\n",
    "# Exibir o resultado\n",
    "print(percentuais)\n"
   ]
  },
  {
   "cell_type": "markdown",
   "metadata": {},
   "source": [
    "Questão 6: Qual a proporção de pessoas com ao menos 3 sintomas e com plano de saúde que optaram por utilizar o SUS?\n",
    "\n",
    "| Mês   | Apenas público | Apenas privado | Ambos (público e privado) | Não especificado |\n",
    "|-------|---------------|----------------------------------|---------------|--------------------------------|\n",
    "| Maio  | 38.032787     | 53.442623                      | 5.464481     | 3.060109                   |\n",
    "| Junho | 37.377451     | 52.573529                       | 7.720588      | 2.328431                     |\n",
    "| Julho | 33.794694     | 56.978085                      | 5.190311      | 4.036909                       |"
   ]
  },
  {
   "cell_type": "code",
   "execution_count": 34,
   "metadata": {},
   "outputs": [
    {
     "name": "stdout",
     "output_type": "stream",
     "text": [
      "       Porcentagem apenas público  Porcentagem apenas privado  \\\n",
      "Maio                    38.032787                   53.442623   \n",
      "Junho                   37.377451                   52.573529   \n",
      "Julho                   33.794694                   56.978085   \n",
      "\n",
      "       Porcentagem ambos (público e privado)  Porcentagem não especificado  \n",
      "Maio                                5.464481                      3.060109  \n",
      "Junho                               7.720588                      2.328431  \n",
      "Julho                               5.190311                      4.036909  \n"
     ]
    }
   ],
   "source": [
    "# Questão 6\n",
    "\n",
    "# Selecionando colunas relevantes para a resolução\n",
    "df_q6_maio = df_maio[[\"V1013\",\"B0011\",\"B0012\",\"B0013\",\"B0014\",\"B0015\",\"B0016\",\"B0017\",\"B0018\",\"B0019\", \"B00110\", \"B00111\", \"B00112\",\"B007\",\"B0041\",\"B0042\",\"B0043\",\"B0044\", \"B0045\", \"B0046\",\"B002\"]]\n",
    "df_q6_junho = df_junho[[\"V1013\",\"B0011\",\"B0012\",\"B0013\",\"B0014\",\"B0015\",\"B0016\",\"B0017\",\"B0018\",\"B0019\", \"B00110\", \"B00111\", \"B00112\",\"B007\",\"B0041\",\"B0042\",\"B0043\",\"B0044\", \"B0045\", \"B0046\",\"B002\"]]\n",
    "df_q6_julho = df_julho[[\"V1013\",\"B0011\",\"B0012\",\"B0013\",\"B0014\",\"B0015\",\"B0016\",\"B0017\",\"B0018\",\"B0019\", \"B00110\", \"B00111\", \"B00112\",\"B007\",\"B0041\",\"B0042\",\"B0043\",\"B0044\", \"B0045\", \"B0046\",\"B002\"]]\n",
    "\n",
    "# Unir os três DataFrames em um só\n",
    "df_q6_total = pd.concat([df_q6_maio, df_q6_junho, df_q6_julho], axis=0)\n",
    "\n",
    "# Selecionando apenas linhas onde a pessoa procurou estabelecimento de saúde\n",
    "df_q6_total = df_q6_total[(df_q6_total[\"B002\"] != 2) & (df_q6_total[\"B002\"] != 9) & (df_q6_total[\"B002\"].notna())]\n",
    "\n",
    "# Filtrar linhas onde o valor 1 ocorre ao menos 3 vezes nas colunas de índice 1 a 13 (apenas pacientes com 3 ou mais sintomas)\n",
    "df_q6_total = df_q6_total[df_q6_total.iloc[:, 1:13].eq(1).sum(axis=1) >= 3]\n",
    "\n",
    "# Selecionando apenas pessoas com plano de saúde\n",
    "df_q6_total = df_q6_total[(df_q6_total[\"B007\"] != 2) & (df_q6_total[\"B007\"] != 9)]\n",
    "\n",
    "# Criar um dicionário para armazenar os resultados por mês\n",
    "resultados = {}\n",
    "\n",
    "# Agrupar por V1013 (mês) e iterar pelos grupos de meses (5 - Maio, 6 - Junho, 7 - Julho)\n",
    "for mes, grupo in df_q6_total.groupby(\"V1013\"):\n",
    "    # Verificar o uso de serviços de saúde pública e privada\n",
    "    usou_publico = grupo[[\"B0041\", \"B0042\", \"B0043\"]].eq(1).any(axis=1)\n",
    "    usou_privado = grupo[[\"B0044\", \"B0045\", \"B0046\"]].eq(1).any(axis=1)\n",
    "\n",
    "    # Identificar os diferentes grupos de uso\n",
    "    apenas_publico = usou_publico & ~usou_privado\n",
    "    apenas_privado = ~usou_publico & usou_privado\n",
    "    ambos = usou_publico & usou_privado\n",
    "    nao_especificado = ~usou_publico & ~usou_privado  # Casos onde a pessoa não usou nem serviços públicos nem privados\n",
    "\n",
    "    # Calcular as proporções para cada categoria\n",
    "    percentual_apenas_publico = apenas_publico.mean() * 100\n",
    "    percentual_apenas_privado = apenas_privado.mean() * 100\n",
    "    percentual_ambos = ambos.mean() * 100\n",
    "    percentual_nao_especificado = nao_especificado.mean() * 100\n",
    "\n",
    "    # Armazenar os resultados no dicionário com o nome do mês correspondente\n",
    "    resultados[mes] = {\n",
    "        \"Porcentagem apenas público\": percentual_apenas_publico,\n",
    "        \"Porcentagem apenas privado\": percentual_apenas_privado,\n",
    "        \"Porcentagem ambos (público e privado)\": percentual_ambos,\n",
    "        \"Porcentagem não especificado\": percentual_nao_especificado\n",
    "    }\n",
    "\n",
    "# Converter o dicionário para um DataFrame para exibir o resultado\n",
    "resultados_df = pd.DataFrame(resultados).T\n",
    "\n",
    "# Renomear o índice para representar os meses\n",
    "resultados_df.index = resultados_df.index.map({5: \"Maio\", 6: \"Junho\", 7: \"Julho\"})\n",
    "\n",
    "# Salvando df_q6_total em xlsx para futura conferência\n",
    "df_q6_total.to_excel(\"dados/clean_data/q6.xlsx\")\n",
    "\n",
    "# Exibir o resultado\n",
    "print(resultados_df)\n"
   ]
  },
  {
   "cell_type": "markdown",
   "metadata": {},
   "source": [
    "Questão 7: Entre as pessoas que buscaram atendimento, qual foi a taxa de internação hospitalar?\n",
    "\n",
    "| Mês   | Porcentagem de internaçào hospitalar | \n",
    "|-------|-----------|\n",
    "| Maio  | 3.315650|\n",
    "| Junho | 3.972003 |\n",
    "| Julho | 4.599896 |"
   ]
  },
  {
   "cell_type": "code",
   "execution_count": 36,
   "metadata": {},
   "outputs": [
    {
     "name": "stdout",
     "output_type": "stream",
     "text": [
      "           B005\n",
      "V1013          \n",
      "Maio   3.315650\n",
      "Junho  3.972003\n",
      "Julho  4.599896\n"
     ]
    }
   ],
   "source": [
    "# Questão 7\n",
    "\n",
    "# Selecionando colunas relevantes para a resolução\n",
    "df_q7_maio = df_maio[[\"V1013\",\"B002\", \"B005\"]]\n",
    "df_q7_junho = df_junho[[\"V1013\",\"B002\", \"B005\"]]\n",
    "df_q7_julho = df_julho[[\"V1013\",\"B002\", \"B005\"]]\n",
    "\n",
    "# Unir os três DataFrames em um só\n",
    "df_q7_total = pd.concat([df_q7_maio, df_q7_junho, df_q7_julho], axis=0)\n",
    "\n",
    "# Selecionando apenas linhas onde a pessoa procurou estabelecimento de saúde\n",
    "df_q7_total = df_q7_total[(df_q7_total[\"B002\"] != 2) & (df_q7_total[\"B002\"] != 9) & (df_q7_total[\"B002\"].notna())]\n",
    "\n",
    "# Agrupar por V1013 (mês) e calcular a porcentagem de ocorrências de 1 em B005\n",
    "percentuais = df_q7_total.groupby(\"V1013\")[[\"B005\"]].apply(lambda x: (x == 1).mean() * 100)\n",
    "\n",
    "# Renomear o índice para representar os meses\n",
    "percentuais.index = percentuais.index.map({5: \"Maio\", 6: \"Junho\", 7: \"Julho\"})\n",
    "\n",
    "# Salvando df_q1_total em xlsx para futura conferencia\n",
    "df_q7_total.to_excel(\"dados/clean_data/q7.xlsx\")\n",
    "\n",
    "# Exibir o resultado\n",
    "print(percentuais)"
   ]
  }
 ],
 "metadata": {
  "kernelspec": {
   "display_name": "base",
   "language": "python",
   "name": "python3"
  },
  "language_info": {
   "codemirror_mode": {
    "name": "ipython",
    "version": 3
   },
   "file_extension": ".py",
   "mimetype": "text/x-python",
   "name": "python",
   "nbconvert_exporter": "python",
   "pygments_lexer": "ipython3",
   "version": "3.12.4"
  }
 },
 "nbformat": 4,
 "nbformat_minor": 2
}
